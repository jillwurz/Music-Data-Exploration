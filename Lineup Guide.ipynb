{
 "cells": [
  {
   "cell_type": "markdown",
   "id": "c827d690-6e65-4cd8-9964-ff25e39e5c70",
   "metadata": {},
   "source": [
    "# Lineup Guide: Festival Schedule Planner for Tomorrowland Belgium Weekend 2"
   ]
  },
  {
   "cell_type": "markdown",
   "id": "ca8930f9-51d3-435d-88b3-0b526ddb1bf8",
   "metadata": {},
   "source": [
    "## Project Outline\n",
    "### Read Data:\n",
    "- Extract the stage, host, artist, and day information\n",
    "### API Integration:\n",
    "- Use Spotipy to get artist popularity, top 3 songs, and genre from the Spotify API\n",
    "### Dashboard:\n",
    "- Create an interactive dashboard\n",
    "- Allow users to filter by day, stage, and popularity\n",
    "- Display artist info that match filter"
   ]
  },
  {
   "cell_type": "code",
   "execution_count": 3,
   "id": "a269383f-36cf-429f-97f8-67793382edac",
   "metadata": {},
   "outputs": [],
   "source": [
    "import pandas as pd\n",
    "import spotipy\n",
    "from spotipy.oauth2 import SpotifyOAuth\n",
    "import os\n",
    "from dotenv import load_dotenv\n",
    "from dash import Dash, dcc, html, Input, Output\n",
    "import dash_bootstrap_components as dbc"
   ]
  },
  {
   "cell_type": "code",
   "execution_count": 4,
   "id": "919a770a-8f93-4d18-ad35-614bc39cf7bc",
   "metadata": {},
   "outputs": [],
   "source": [
    "# Load the Excel file\n",
    "excel_data = pd.ExcelFile(\"../Data Science Projects/Tomorrowland_W2_2024.xlsx\")\n",
    "\n",
    "# Parse the data from each sheet/day\n",
    "lineup_data = {}\n",
    "for sheet_name in excel_data.sheet_names:\n",
    "    df = excel_data.parse(sheet_name, header=[0, 1])\n",
    "    lineup_data[sheet_name] = df"
   ]
  },
  {
   "cell_type": "code",
   "execution_count": 5,
   "id": "6350636a-24d4-4695-821a-debd9c577880",
   "metadata": {},
   "outputs": [],
   "source": [
    "# Function to parse the lineup and extract artist and stage host information\n",
    "def parse_lineup(data):\n",
    "    artists = []\n",
    "    for day, df in data.items():\n",
    "        for stage in df.columns.levels[0]:\n",
    "            # Extract the stage data\n",
    "            stage_data = df[stage].dropna().values.flatten()\n",
    "            \n",
    "            # Extract the stage host for the current stage\n",
    "            stage_host = df.columns.get_level_values(1)[df.columns.get_level_values(0) == stage].unique()\n",
    "            \n",
    "            if len(stage_host) > 0:\n",
    "                stage_host = stage_host[0]  \n",
    "            else:\n",
    "                stage_host = 'Unknown'\n",
    "            \n",
    "            # Iterate over the artists in the stage data\n",
    "            for artist in stage_data:\n",
    "                if artist:\n",
    "                    artists.append({\n",
    "                        'day': day,\n",
    "                        'stage': stage,\n",
    "                        'stage_host': stage_host,\n",
    "                        'artist': artist\n",
    "                    })\n",
    "    \n",
    "    return pd.DataFrame(artists)\n",
    "\n",
    "lineup_df = parse_lineup(lineup_data)"
   ]
  },
  {
   "cell_type": "code",
   "execution_count": 6,
   "id": "29ddd75f-0fca-4a36-ac32-2347100105a2",
   "metadata": {},
   "outputs": [],
   "source": [
    "# Spotify API credentials from .env\n",
    "load_dotenv()\n",
    "client_id = os.getenv('CLIENT_ID')\n",
    "client_secret = os.getenv('CLIENT_SECRET')\n",
    "redirect_uri = os.getenv('REDIRECT_URI')\n",
    "\n",
    "# SpotifyOAuth with the credentials\n",
    "sp = spotipy.Spotify(auth_manager=SpotifyOAuth(client_id=client_id, client_secret=client_secret, redirect_uri=redirect_uri, scope=\"user-library-read\"))"
   ]
  },
  {
   "cell_type": "code",
   "execution_count": 7,
   "id": "4ca49166-f839-46e3-a91b-26529f03dbba",
   "metadata": {},
   "outputs": [],
   "source": [
    "# Function to extract artist popularity, genre, and top 3 tracks from Spotify API\n",
    "def get_spotify_data(artist_name):\n",
    "    try:\n",
    "        results = sp.search(q=artist_name, type='artist')\n",
    "        if results['artists']['items']:\n",
    "            artist = results['artists']['items'][0]\n",
    "            top_tracks = sp.artist_top_tracks(artist['id'], country='US')['tracks']\n",
    "            return {\n",
    "                'popularity': artist['popularity'],\n",
    "                'genres': artist['genres'],\n",
    "                'top_tracks': [track['name'] for track in top_tracks[:3]]  # Limit to top 3 tracks\n",
    "            }\n",
    "    except spotipy.exceptions.SpotifyException as e:\n",
    "        if e.http_status == 429:\n",
    "            retry_after = int(e.headers.get('Retry-After', 1))\n",
    "            print(f\"Rate limited. Retrying after {retry_after} seconds.\")\n",
    "            time.sleep(retry_after)\n",
    "            return get_spotify_data(artist_name)\n",
    "        else:\n",
    "            print(f\"Spotify API error: {e}\")\n",
    "    return {\n",
    "        'popularity': None,\n",
    "        'genres': [],\n",
    "        'top_tracks': []\n",
    "    }\n",
    "\n",
    "def enrich_artist_data(artists_df):\n",
    "    # Ensure the DataFrame has columns for the new data\n",
    "    artists_df['popularity'] = None\n",
    "    artists_df['genres'] = None\n",
    "    artists_df['top_tracks'] = None\n",
    "\n",
    "    total_artists = len(artists_df)\n",
    "    for i, artist in enumerate(artists_df['artist']):\n",
    "        spotify_data = get_spotify_data(artist)\n",
    "        artists_df.at[i, 'popularity'] = spotify_data['popularity']\n",
    "        artists_df.at[i, 'genres'] = ', '.join(spotify_data['genres'])  \n",
    "        artists_df.at[i, 'top_tracks'] = ', '.join(spotify_data['top_tracks'])  \n",
    "    return artists_df"
   ]
  },
  {
   "cell_type": "code",
   "execution_count": 8,
   "id": "0c8a9b06-222f-4489-9ac1-0df970dd203b",
   "metadata": {
    "scrolled": true
   },
   "outputs": [],
   "source": [
    "# Run the enrichment process. This will take a while ~5mins\n",
    "enriched_lineup_df = enrich_artist_data(lineup_df)"
   ]
  },
  {
   "cell_type": "code",
   "execution_count": 9,
   "id": "babe4e2a-847d-4d4f-a0f1-7d970d32cca0",
   "metadata": {},
   "outputs": [],
   "source": [
    "# Save or further process your enriched DataFrame as needed\n",
    "enriched_lineup_df.to_csv('enriched_lineup.csv', index=False)"
   ]
  },
  {
   "cell_type": "code",
   "execution_count": 10,
   "id": "38818297-d55c-45b1-b6c8-593441991382",
   "metadata": {},
   "outputs": [
    {
     "data": {
      "text/html": [
       "\n",
       "        <iframe\n",
       "            width=\"100%\"\n",
       "            height=\"650\"\n",
       "            src=\"http://127.0.0.1:8050/\"\n",
       "            frameborder=\"0\"\n",
       "            allowfullscreen\n",
       "            \n",
       "        ></iframe>\n",
       "        "
      ],
      "text/plain": [
       "<IPython.lib.display.IFrame at 0x1e63771b650>"
      ]
     },
     "metadata": {},
     "output_type": "display_data"
    }
   ],
   "source": [
    "# Create Dash app with Bootstrap theme\n",
    "app = Dash(__name__, external_stylesheets=[dbc.themes.QUARTZ])\n",
    "\n",
    "# Layout of the app\n",
    "app.layout = dbc.Container([\n",
    "    dbc.Row([\n",
    "        dbc.Col(html.H1(\"Festival Lineup Optimizer\", className='text-center text-primary mb-4'), width=12)\n",
    "    ]),\n",
    "    dbc.Row([\n",
    "        dbc.Col([\n",
    "            dbc.Card([\n",
    "                dbc.CardBody([\n",
    "                    html.H4(\"Filter by Day\", className=\"card-title\"),\n",
    "                    dcc.Dropdown(\n",
    "                        id='day-dropdown',\n",
    "                        options=[{'label': day, 'value': day} for day in enriched_lineup_df['day'].unique()],\n",
    "                        multi=True,\n",
    "                        placeholder=\"Select days\",\n",
    "                        className='mb-4'\n",
    "                    ),\n",
    "                    html.H4(\"Filter by Stage\", className=\"card-title\"),\n",
    "                    dcc.Dropdown(\n",
    "                        id='stage-dropdown',\n",
    "                        options=[{'label': stage, 'value': stage} for stage in enriched_lineup_df['stage'].unique()],\n",
    "                        multi=True,\n",
    "                        placeholder=\"Select stages\",\n",
    "                        className='mb-4'\n",
    "                    ),\n",
    "                    html.H4(\"Filter by Popularity\", className=\"card-title\"),\n",
    "                    dcc.Slider(\n",
    "                        id='popularity-slider',\n",
    "                        min=0,\n",
    "                        max=100,\n",
    "                        step=1,\n",
    "                        marks={i: str(i) for i in range(0, 101, 10)},\n",
    "                        value=0,\n",
    "                        className='mb-4'\n",
    "                    ),\n",
    "                ])\n",
    "            ])\n",
    "        ], width=4),\n",
    "        dbc.Col([\n",
    "            html.Div(id='artist-output')\n",
    "        ], width=8)\n",
    "    ])\n",
    "], fluid=True, className=\"p-4\")\n",
    "\n",
    "# Callback to update artist list based on filters\n",
    "@app.callback(\n",
    "    Output('artist-output', 'children'),\n",
    "    [  \n",
    "        Input('day-dropdown', 'value'),\n",
    "        Input('stage-dropdown', 'value'),\n",
    "        Input('popularity-slider', 'value')\n",
    "    ]\n",
    ")\n",
    "def update_artists(days, stages, popularity_threshold):\n",
    "    filtered_df = enriched_lineup_df\n",
    "    if days:\n",
    "        filtered_df = filtered_df[filtered_df['day'].isin(days)]\n",
    "    if stages:\n",
    "        filtered_df = filtered_df[filtered_df['stage'].isin(stages)]\n",
    "    filtered_df = filtered_df[filtered_df['popularity'] >= popularity_threshold]\n",
    "    \n",
    "    return dbc.ListGroup([\n",
    "        dbc.ListGroupItem(f\"Artist: {row['artist']} - Popularity: {row['popularity']} - Genres: {row['genres']} - Top Tracks: {row['top_tracks']}\")\n",
    "        for _, row in filtered_df.iterrows()\n",
    "    ])\n",
    "\n",
    "if __name__ == '__main__':\n",
    "    app.run_server(debug=True, use_reloader=False)"
   ]
  }
 ],
 "metadata": {
  "kernelspec": {
   "display_name": "Python 3 (ipykernel)",
   "language": "python",
   "name": "python3"
  },
  "language_info": {
   "codemirror_mode": {
    "name": "ipython",
    "version": 3
   },
   "file_extension": ".py",
   "mimetype": "text/x-python",
   "name": "python",
   "nbconvert_exporter": "python",
   "pygments_lexer": "ipython3",
   "version": "3.11.7"
  }
 },
 "nbformat": 4,
 "nbformat_minor": 5
}
